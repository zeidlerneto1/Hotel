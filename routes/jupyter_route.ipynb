{
 "cells": [
  {
   "cell_type": "code",
   "execution_count": null,
   "metadata": {},
   "outputs": [],
   "source": [
    "from flask import Blueprint,request\n",
    "from controllers import cliente_controller\n",
    "from controllers import hospede_controller\n",
    "from controllers import reserva_controller\n",
    "from controllers import quarto_controller\n",
    "from controllers import tarifa_controller\n",
    "from controllers import quarto_controller\n",
    "from controllers import servicos_adicionais_controller\n",
    "from controllers.info_quarto_controller import InfoQuartoController\n",
    "from controllers import feedback_controller"
   ]
  },
  {
   "cell_type": "markdown",
   "metadata": {},
   "source": [
    "Eu menciono a bibliteca Flask importando o Blueprint (organizar o código do aplicativo em módulos menores e reutilizáveis) e request(usado para acessar os dados enviados pelo cliente para o servidor. Ele contém informações sobre a solicitação HTTP, como os cabeçalhos, os dados do formulário, os parâmetros de URL). e importando as funçoes do controllers dos outros  que faz sua função aqui no routes"
   ]
  },
  {
   "cell_type": "code",
   "execution_count": null,
   "metadata": {},
   "outputs": [],
   "source": [
    "!pip install flask \n",
    "!pip install request"
   ]
  },
  {
   "cell_type": "markdown",
   "metadata": {},
   "source": [
    "importando flask por depedencias a cima."
   ]
  },
  {
   "cell_type": "code",
   "execution_count": null,
   "metadata": {},
   "outputs": [],
   "source": [
    "cliente_bp = Blueprint('cliente_bp', __name__)\n"
   ]
  },
  {
   "cell_type": "markdown",
   "metadata": {},
   "source": [
    "aqui ja crio um pacote para as rotas cliente_bp."
   ]
  },
  {
   "cell_type": "code",
   "execution_count": null,
   "metadata": {},
   "outputs": [],
   "source": [
    "@cliente_bp.route('/clientes', methods=['GET'])\n",
    "def listar_clientes():\n",
    "    return cliente_controller.listar_clientes()\n",
    "\n",
    "@cliente_bp.route('/clientes/<int:id>', methods=['GET'])\n",
    "def obter_cliente(id):\n",
    "    return cliente_controller.obter_cliente(id)"
   ]
  },
  {
   "cell_type": "code",
   "execution_count": 2,
   "metadata": {},
   "outputs": [
    {
     "name": "stdout",
     "output_type": "stream",
     "text": [
      "[\n",
      "  {\n",
      "    \"documento_RG_cliente\": \"222222222\",\n",
      "    \"email\": \"Arthur@email.com\",\n",
      "    \"endereco\": \"rua hotel Quitandinha\",\n",
      "    \"id\": 1,\n",
      "    \"nome\": \"Arthur\",\n",
      "    \"telefone\": \"24589782158\"\n",
      "  }\n",
      "]\n",
      "\n"
     ]
    }
   ],
   "source": [
    "import requests\n",
    "\n",
    "x = requests.get('http://127.0.0.1:5000/api/clientes')\n",
    "##1- puxa todos as clientes em lista.\n",
    "\n",
    "print(x.text)"
   ]
  },
  {
   "cell_type": "code",
   "execution_count": 3,
   "metadata": {},
   "outputs": [
    {
     "name": "stdout",
     "output_type": "stream",
     "text": [
      "{\n",
      "  \"documento_RG_cliente\": \"222222222\",\n",
      "  \"email\": \"Arthur@email.com\",\n",
      "  \"endereco\": \"rua hotel Quitandinha\",\n",
      "  \"id\": 1,\n",
      "  \"nome\": \"Arthur\",\n",
      "  \"telefone\": \"24589782158\"\n",
      "}\n",
      "\n"
     ]
    }
   ],
   "source": [
    "import requests\n",
    "\n",
    "x = requests.get('http://127.0.0.1:5000/api/clientes/1')\n",
    "##2- puxa uma reserva deteminada pelo id usando http://127.0.0.1:5000/api/clientes/1\n",
    "\n",
    "print(x.text)"
   ]
  },
  {
   "cell_type": "markdown",
   "metadata": {},
   "source": [
    "dois metodos GET \n",
    "1- puxa todos as clientes em lista.\n",
    "2- puxa uma reserva deteminada pelo id usando http://127.0.0.1:5000/api/clientes/1 (exemplo)"
   ]
  },
  {
   "cell_type": "code",
   "execution_count": null,
   "metadata": {},
   "outputs": [],
   "source": [
    "@cliente_bp.route('/clientes', methods=['POST'])\n",
    "def criar_cliente():\n",
    "    return cliente_controller.criar_cliente()"
   ]
  },
  {
   "cell_type": "code",
   "execution_count": 4,
   "metadata": {},
   "outputs": [
    {
     "name": "stdout",
     "output_type": "stream",
     "text": [
      "{\n",
      "  \"documento_RG_cliente\": \"11111111101\",\n",
      "  \"email\": \"p@email.com\",\n",
      "  \"endereco\": \"rua hotel Quitandinha\",\n",
      "  \"id\": 4,\n",
      "  \"nome\": \"Peter2\",\n",
      "  \"telefone\": \"24589782158\"\n",
      "}\n",
      "\n"
     ]
    }
   ],
   "source": [
    "import requests\n",
    "\n",
    "url = 'http://127.0.0.1:5000/api/clientes'\n",
    "json1 = {\n",
    "    'nome': \"Peter2\",\n",
    "    'endereco': \"rua hotel Quitandinha\",\n",
    "    'telefone': \"24589782158\",\n",
    "    'email': \"p@email.com\",\n",
    "    'documento_RG_cliente': \"11111111101\"\n",
    "}\n",
    "\n",
    "response = requests.post(url, json=json1)\n",
    "print(response.text)\n"
   ]
  },
  {
   "cell_type": "markdown",
   "metadata": {},
   "source": [
    "Metodo POST \n",
    "ele serve para inserir dados da reserva desse modo usando http://127.0.0.1:5000/api/clientes\n",
    "usando json na sua request \n",
    "{\n",
    "        'nome': \"Peter\",\n",
    "        'endereco': \"rua hotel Quitandinha\",\n",
    "        'telefone': \"24589782158\",\n",
    "        'email': \"p@email.com\",\n",
    "        'documento_RG_cliente': \"11111111101\"\n",
    "}"
   ]
  },
  {
   "cell_type": "code",
   "execution_count": null,
   "metadata": {},
   "outputs": [],
   "source": [
    "@cliente_bp.route('/clientes/<int:id>', methods=['PUT'])\n",
    "def atualizar_cliente(id):\n",
    "    return cliente_controller.atualizar_cliente(id)"
   ]
  },
  {
   "cell_type": "code",
   "execution_count": 5,
   "metadata": {},
   "outputs": [
    {
     "name": "stdout",
     "output_type": "stream",
     "text": [
      "{\n",
      "  \"documento_RG_cliente\": \"222222222\",\n",
      "  \"email\": \"Arthur@email.com\",\n",
      "  \"endereco\": \"rua hotel Quitandinha\",\n",
      "  \"id\": 1,\n",
      "  \"nome\": \"Arthur\",\n",
      "  \"telefone\": \"24589782158\"\n",
      "}\n",
      "\n"
     ]
    }
   ],
   "source": [
    "import requests\n",
    "\n",
    "url = 'http://127.0.0.1:5000/api/clientes/1' \n",
    "json1 = {\n",
    "    \"nome\": \"Arthur\",\n",
    "    \"endereco\": \"rua hotel Quitandinha\",\n",
    "    \"telefone\": \"24589782158\",\n",
    "    \"email\": \"Arthur@email.com\",\n",
    "    \"documento_RG_cliente\": \"222222222\"\n",
    "}\n",
    "\n",
    "response = requests.put(url, json=json1)\n",
    "print(response.text)\n"
   ]
  },
  {
   "cell_type": "markdown",
   "metadata": {},
   "source": [
    "Metodo PUT \n",
    "ele serve para Atualizar dados da reserva desse modo usando http://127.0.0.1:5000/api/clientes/1\n",
    "\n",
    "usando json na sua request \n",
    "{\n",
    "        'nome': \"Peter\",\n",
    "        'endereco': \"rua hotel Quitandinha\",\n",
    "        'telefone': \"24589782158\",\n",
    "        'email': \"p@email.com\",\n",
    "        'documento_RG_cliente': \"11111111101\"\n",
    "}\n",
    "pode ser atualização completa ou parcial dos dados"
   ]
  },
  {
   "cell_type": "code",
   "execution_count": null,
   "metadata": {},
   "outputs": [],
   "source": [
    "@cliente_bp.route('/clientes/<int:id>', methods=['DELETE'])\n",
    "def excluir_cliente(id):\n",
    "    return cliente_controller.excluir_cliente(id)"
   ]
  },
  {
   "cell_type": "code",
   "execution_count": 6,
   "metadata": {},
   "outputs": [
    {
     "name": "stdout",
     "output_type": "stream",
     "text": [
      "{\n",
      "  \"mensagem\": \"Cliente exclu\\u00eddo com sucesso\"\n",
      "}\n",
      "\n"
     ]
    }
   ],
   "source": [
    "import requests\n",
    "\n",
    "x = requests.delete('http://127.0.0.1:5000/api/clientes/4')\n",
    "##DELETANDO O USUARIO\n",
    "\n",
    "print(x.text)"
   ]
  },
  {
   "cell_type": "markdown",
   "metadata": {},
   "source": [
    "Metodo DELETE \n",
    "ele serve para deletar os dados do cliente no sistema usando desse  modo usando http://127.0.0.1:5000/api/clientes/1"
   ]
  },
  {
   "cell_type": "markdown",
   "metadata": {},
   "source": [
    "Os demeais pacotes no codigo Routes possuem os mesmo mecanismos de GET, POST, PUT e DELETE"
   ]
  }
 ],
 "metadata": {
  "kernelspec": {
   "display_name": "Python 3",
   "language": "python",
   "name": "python3"
  },
  "language_info": {
   "codemirror_mode": {
    "name": "ipython",
    "version": 3
   },
   "file_extension": ".py",
   "mimetype": "text/x-python",
   "name": "python",
   "nbconvert_exporter": "python",
   "pygments_lexer": "ipython3",
   "version": "3.11.9"
  }
 },
 "nbformat": 4,
 "nbformat_minor": 2
}
